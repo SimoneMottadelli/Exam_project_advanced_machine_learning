{
  "nbformat": 4,
  "nbformat_minor": 0,
  "metadata": {
    "colab": {
      "name": "AML_2020-2021_assignment_3.ipynb",
      "provenance": [],
      "collapsed_sections": []
    },
    "kernelspec": {
      "name": "python3",
      "display_name": "Python 3"
    },
    "accelerator": "GPU"
  },
  "cells": [
    {
      "cell_type": "markdown",
      "metadata": {
        "id": "1xTNnRmAG0xC"
      },
      "source": [
        "<h1>Configure environment</h1>"
      ]
    },
    {
      "cell_type": "code",
      "metadata": {
        "id": "IJ_j_WPsGvmj"
      },
      "source": [
        "import numpy as np\n",
        "from tensorflow import keras\n",
        "from tensorflow.keras import layers\n",
        "import matplotlib.pyplot as plt\n",
        "from sklearn.metrics import confusion_matrix\n",
        "import seaborn as sn\n",
        "import numpy.matlib"
      ],
      "execution_count": 1,
      "outputs": []
    },
    {
      "cell_type": "markdown",
      "metadata": {
        "id": "DlzP8pUSHI7z"
      },
      "source": [
        "<h1>Data preparation</h1>"
      ]
    },
    {
      "cell_type": "code",
      "metadata": {
        "colab": {
          "base_uri": "https://localhost:8080/"
        },
        "id": "UcjTrSwdHLbX",
        "outputId": "416d187e-eb2c-4e7c-ecd0-4929ffc72a00"
      },
      "source": [
        "# Model/data parameters\n",
        "num_classes = 10\n",
        "input_shape = (28, 28, 1)\n",
        "\n",
        "# load the data and divide it into train/test split\n",
        "(x_train, y_train), (x_test, y_test) = keras.datasets.mnist.load_data()\n",
        "\n",
        "# scale images into the [0 1] range\n",
        "x_train = x_train.astype(\"float32\") / 255\n",
        "x_test = x_test.astype(\"float32\") / 255\n",
        "\n",
        "# make images with size (28, 28, 1)\n",
        "x_train = np.expand_dims(x_train, -1)\n",
        "x_test = np.expand_dims(x_test, -1)\n",
        "\n",
        "print(\"x_train shape: \", x_train.shape)\n",
        "print(\"x_test shape: \", x_test.shape)\n",
        "print(x_train.shape[0], \"train samples\")\n",
        "print(x_test.shape[0], \"test samples\")"
      ],
      "execution_count": 2,
      "outputs": [
        {
          "output_type": "stream",
          "text": [
            "Downloading data from https://storage.googleapis.com/tensorflow/tf-keras-datasets/mnist.npz\n",
            "11493376/11490434 [==============================] - 0s 0us/step\n",
            "x_train shape:  (60000, 28, 28, 1)\n",
            "x_test shape:  (10000, 28, 28, 1)\n",
            "60000 train samples\n",
            "10000 test samples\n"
          ],
          "name": "stdout"
        }
      ]
    },
    {
      "cell_type": "code",
      "metadata": {
        "id": "EebotMlFIyXe"
      },
      "source": [
        "# convert class vectors to binary class matrices\n",
        "y_train = keras.utils.to_categorical(y_train, num_classes)\n",
        "y_test = keras.utils.to_categorical(y_test, num_classes)"
      ],
      "execution_count": 3,
      "outputs": []
    },
    {
      "cell_type": "markdown",
      "metadata": {
        "id": "7rtSW743JLq8"
      },
      "source": [
        "<h1>Model definition</h1>"
      ]
    },
    {
      "cell_type": "code",
      "metadata": {
        "colab": {
          "base_uri": "https://localhost:8080/"
        },
        "id": "JaJd5he9JL81",
        "outputId": "412bb703-0c1a-4253-a0ff-ab9eed1751f9"
      },
      "source": [
        "\"\"\"\n",
        "model = keras.Sequential(\n",
        "    [\n",
        "     keras.Input(shape=input_shape),\n",
        "     layers.Conv2D(32, kernel_size=(3, 3), activation=\"relu\"),\n",
        "     layers.MaxPooling2D(pool_size=(2, 2)),\n",
        "     layers.Conv2D(64, kernel_size=(3, 3), activation=\"relu\"),\n",
        "     layers.MaxPooling2D(pool_size=(2, 2)),\n",
        "     layers.Flatten(),\n",
        "     layers.Dropout(0.5),\n",
        "     layers.Dense(num_classes, activation=\"softmax\")\n",
        "    ]\n",
        ")\n",
        "\n",
        "model.summary()\n",
        "\n",
        "# il modello piu piccolo si comporta come il classificatore random. ci sono 10 cifre, quindi accuratezza del 10% circa\n",
        "model_smallest = keras.Sequential(\n",
        "    [\n",
        "      keras.Input(shape=input_shape),\n",
        "      layers.MaxPooling2D(pool_size=(28, 28)),\n",
        "      layers.Flatten(),\n",
        "      layers.Dense(num_classes, activation=\"softmax\")\n",
        "    ]\n",
        ")\n",
        "\n",
        "model_smallest.summary()\n",
        "\n",
        "\"\"\"\n",
        "\n",
        "my_model = keras.Sequential(\n",
        "    [\n",
        "      keras.Input(shape=input_shape),\n",
        "      layers.Conv2D(20, kernel_size=(5, 5), activation=\"relu\"),\n",
        "      layers.MaxPooling2D(pool_size=(2, 2)),\n",
        "      layers.Conv2D(15, kernel_size=(3, 3), activation=\"relu\"),\n",
        "      layers.MaxPooling2D(pool_size=(2, 2)),\n",
        "      layers.Flatten(),\n",
        "      layers.Dropout(0.3),\n",
        "      layers.Dense(num_classes, activation=\"softmax\")\n",
        "    ]\n",
        ")\n",
        "\n",
        "my_model.summary()"
      ],
      "execution_count": 4,
      "outputs": [
        {
          "output_type": "stream",
          "text": [
            "Model: \"sequential\"\n",
            "_________________________________________________________________\n",
            "Layer (type)                 Output Shape              Param #   \n",
            "=================================================================\n",
            "conv2d (Conv2D)              (None, 24, 24, 20)        520       \n",
            "_________________________________________________________________\n",
            "max_pooling2d (MaxPooling2D) (None, 12, 12, 20)        0         \n",
            "_________________________________________________________________\n",
            "conv2d_1 (Conv2D)            (None, 10, 10, 15)        2715      \n",
            "_________________________________________________________________\n",
            "max_pooling2d_1 (MaxPooling2 (None, 5, 5, 15)          0         \n",
            "_________________________________________________________________\n",
            "flatten (Flatten)            (None, 375)               0         \n",
            "_________________________________________________________________\n",
            "dropout (Dropout)            (None, 375)               0         \n",
            "_________________________________________________________________\n",
            "dense (Dense)                (None, 10)                3760      \n",
            "=================================================================\n",
            "Total params: 6,995\n",
            "Trainable params: 6,995\n",
            "Non-trainable params: 0\n",
            "_________________________________________________________________\n"
          ],
          "name": "stdout"
        }
      ]
    },
    {
      "cell_type": "markdown",
      "metadata": {
        "id": "-b5lpA-cLDJM"
      },
      "source": [
        "<h1>Model training</h1>"
      ]
    },
    {
      "cell_type": "code",
      "metadata": {
        "id": "ylHOAAzqQnYt"
      },
      "source": [
        "def plot_history(network_history, n_epochs):\n",
        "    x_plot = list(range(1,n_epochs+1))\n",
        "    plt.figure()\n",
        "    plt.xlabel('Epochs')\n",
        "    plt.ylabel('Loss')\n",
        "    plt.plot(x_plot, network_history.history['loss'])\n",
        "    plt.plot(x_plot, network_history.history['val_loss'])\n",
        "    plt.legend(['Training', 'Validation'])\n",
        "\n",
        "    plt.figure()\n",
        "    plt.xlabel('Epochs')\n",
        "    plt.ylabel('Accuracy')\n",
        "    plt.plot(x_plot, network_history.history['accuracy'])\n",
        "    plt.plot(x_plot, network_history.history['val_accuracy'])\n",
        "    plt.legend(['Training', 'Validation'], loc='lower right')\n",
        "    plt.show()"
      ],
      "execution_count": 5,
      "outputs": []
    },
    {
      "cell_type": "code",
      "metadata": {
        "colab": {
          "base_uri": "https://localhost:8080/"
        },
        "id": "PuYyWU6cK_3D",
        "outputId": "cfd53add-45a6-4c15-c9ce-f7094eb87082"
      },
      "source": [
        "batch_size = 128\n",
        "epochs = 30\n",
        "\n",
        "my_model.compile(loss=\"categorical_crossentropy\", optimizer=\"adam\", metrics=[\"accuracy\"])\n",
        "network_history = my_model.fit(x_train, y_train, batch_size=batch_size, epochs=epochs, validation_split=0.1)"
      ],
      "execution_count": 6,
      "outputs": [
        {
          "output_type": "stream",
          "text": [
            "Epoch 1/30\n",
            "422/422 [==============================] - 1s 3ms/step - loss: 0.5164 - accuracy: 0.8387 - val_loss: 0.1085 - val_accuracy: 0.9717\n",
            "Epoch 2/30\n",
            "422/422 [==============================] - 1s 3ms/step - loss: 0.1486 - accuracy: 0.9545 - val_loss: 0.0724 - val_accuracy: 0.9793\n",
            "Epoch 3/30\n",
            "422/422 [==============================] - 1s 3ms/step - loss: 0.1114 - accuracy: 0.9659 - val_loss: 0.0602 - val_accuracy: 0.9843\n",
            "Epoch 4/30\n",
            "422/422 [==============================] - 1s 3ms/step - loss: 0.0930 - accuracy: 0.9710 - val_loss: 0.0520 - val_accuracy: 0.9863\n",
            "Epoch 5/30\n",
            "422/422 [==============================] - 1s 3ms/step - loss: 0.0825 - accuracy: 0.9745 - val_loss: 0.0463 - val_accuracy: 0.9880\n",
            "Epoch 6/30\n",
            "422/422 [==============================] - 1s 3ms/step - loss: 0.0743 - accuracy: 0.9764 - val_loss: 0.0455 - val_accuracy: 0.9875\n",
            "Epoch 7/30\n",
            "422/422 [==============================] - 1s 3ms/step - loss: 0.0709 - accuracy: 0.9776 - val_loss: 0.0427 - val_accuracy: 0.9893\n",
            "Epoch 8/30\n",
            "422/422 [==============================] - 1s 3ms/step - loss: 0.0643 - accuracy: 0.9796 - val_loss: 0.0399 - val_accuracy: 0.9893\n",
            "Epoch 9/30\n",
            "422/422 [==============================] - 1s 3ms/step - loss: 0.0607 - accuracy: 0.9815 - val_loss: 0.0395 - val_accuracy: 0.9900\n",
            "Epoch 10/30\n",
            "422/422 [==============================] - 1s 3ms/step - loss: 0.0580 - accuracy: 0.9820 - val_loss: 0.0381 - val_accuracy: 0.9895\n",
            "Epoch 11/30\n",
            "422/422 [==============================] - 1s 3ms/step - loss: 0.0560 - accuracy: 0.9823 - val_loss: 0.0365 - val_accuracy: 0.9908\n",
            "Epoch 12/30\n",
            "422/422 [==============================] - 1s 3ms/step - loss: 0.0544 - accuracy: 0.9826 - val_loss: 0.0372 - val_accuracy: 0.9900\n",
            "Epoch 13/30\n",
            "422/422 [==============================] - 1s 3ms/step - loss: 0.0532 - accuracy: 0.9830 - val_loss: 0.0363 - val_accuracy: 0.9905\n",
            "Epoch 14/30\n",
            "422/422 [==============================] - 1s 3ms/step - loss: 0.0504 - accuracy: 0.9844 - val_loss: 0.0346 - val_accuracy: 0.9907\n",
            "Epoch 15/30\n",
            "422/422 [==============================] - 1s 3ms/step - loss: 0.0480 - accuracy: 0.9850 - val_loss: 0.0371 - val_accuracy: 0.9915\n",
            "Epoch 16/30\n",
            "422/422 [==============================] - 1s 3ms/step - loss: 0.0490 - accuracy: 0.9845 - val_loss: 0.0327 - val_accuracy: 0.9913\n",
            "Epoch 17/30\n",
            "422/422 [==============================] - 1s 3ms/step - loss: 0.0463 - accuracy: 0.9855 - val_loss: 0.0348 - val_accuracy: 0.9910\n",
            "Epoch 18/30\n",
            "422/422 [==============================] - 1s 3ms/step - loss: 0.0433 - accuracy: 0.9868 - val_loss: 0.0341 - val_accuracy: 0.9917\n",
            "Epoch 19/30\n",
            "422/422 [==============================] - 1s 3ms/step - loss: 0.0440 - accuracy: 0.9859 - val_loss: 0.0341 - val_accuracy: 0.9907\n",
            "Epoch 20/30\n",
            "422/422 [==============================] - 1s 3ms/step - loss: 0.0434 - accuracy: 0.9869 - val_loss: 0.0364 - val_accuracy: 0.9902\n",
            "Epoch 21/30\n",
            "422/422 [==============================] - 1s 3ms/step - loss: 0.0425 - accuracy: 0.9867 - val_loss: 0.0354 - val_accuracy: 0.9900\n",
            "Epoch 22/30\n",
            "422/422 [==============================] - 1s 3ms/step - loss: 0.0400 - accuracy: 0.9873 - val_loss: 0.0351 - val_accuracy: 0.9908\n",
            "Epoch 23/30\n",
            "422/422 [==============================] - 1s 3ms/step - loss: 0.0416 - accuracy: 0.9864 - val_loss: 0.0345 - val_accuracy: 0.9907\n",
            "Epoch 24/30\n",
            "422/422 [==============================] - 1s 3ms/step - loss: 0.0394 - accuracy: 0.9872 - val_loss: 0.0343 - val_accuracy: 0.9912\n",
            "Epoch 25/30\n",
            "422/422 [==============================] - 1s 3ms/step - loss: 0.0390 - accuracy: 0.9881 - val_loss: 0.0324 - val_accuracy: 0.9910\n",
            "Epoch 26/30\n",
            "422/422 [==============================] - 1s 3ms/step - loss: 0.0378 - accuracy: 0.9878 - val_loss: 0.0347 - val_accuracy: 0.9915\n",
            "Epoch 27/30\n",
            "422/422 [==============================] - 1s 3ms/step - loss: 0.0367 - accuracy: 0.9883 - val_loss: 0.0338 - val_accuracy: 0.9917\n",
            "Epoch 28/30\n",
            "422/422 [==============================] - 1s 3ms/step - loss: 0.0353 - accuracy: 0.9883 - val_loss: 0.0321 - val_accuracy: 0.9918\n",
            "Epoch 29/30\n",
            "422/422 [==============================] - 1s 3ms/step - loss: 0.0356 - accuracy: 0.9883 - val_loss: 0.0376 - val_accuracy: 0.9905\n",
            "Epoch 30/30\n",
            "422/422 [==============================] - 1s 3ms/step - loss: 0.0360 - accuracy: 0.9885 - val_loss: 0.0331 - val_accuracy: 0.9912\n"
          ],
          "name": "stdout"
        }
      ]
    },
    {
      "cell_type": "code",
      "metadata": {
        "colab": {
          "base_uri": "https://localhost:8080/",
          "height": 541
        },
        "id": "RX-Aqgy0Q2i-",
        "outputId": "5470360f-1d37-423d-df53-0c22c0797d73"
      },
      "source": [
        "plot_history(network_history, epochs)"
      ],
      "execution_count": 7,
      "outputs": [
        {
          "output_type": "display_data",
          "data": {
            "image/png": "[encoded data removed]",
            "text/plain": [
              "<Figure size 432x288 with 1 Axes>"
            ]
          },
          "metadata": {
            "tags": [],
            "needs_background": "light"
          }
        },
        {
          "output_type": "display_data",
          "data": {
            "image/png": "[encoded data removed]",
            "text/plain": [
              "<Figure size 432x288 with 1 Axes>"
            ]
          },
          "metadata": {
            "tags": [],
            "needs_background": "light"
          }
        }
      ]
    },
    {
      "cell_type": "markdown",
      "metadata": {
        "id": "I_cHICyoMZNa"
      },
      "source": [
        "<h1>Evaluation of the model</h1>"
      ]
    },
    {
      "cell_type": "code",
      "metadata": {
        "colab": {
          "base_uri": "https://localhost:8080/"
        },
        "id": "7QIQlSFoMXBo",
        "outputId": "e52060de-00a8-4244-c1fd-4bf435f09fb2"
      },
      "source": [
        "score = my_model.evaluate(x_test, y_test, verbose=1)\n",
        "print(\"Test loss:\", score[0])\n",
        "print(\"Test accuracy:\", score[1])"
      ],
      "execution_count": 8,
      "outputs": [
        {
          "output_type": "stream",
          "text": [
            "313/313 [==============================] - 1s 2ms/step - loss: 0.0242 - accuracy: 0.9927\n",
            "Test loss: 0.024208204820752144\n",
            "Test accuracy: 0.9926999807357788\n"
          ],
          "name": "stdout"
        }
      ]
    },
    {
      "cell_type": "code",
      "metadata": {
        "colab": {
          "base_uri": "https://localhost:8080/",
          "height": 265
        },
        "id": "0xKYnfWU2rQy",
        "outputId": "876ca60b-8c7e-452f-b476-49d96995ad46"
      },
      "source": [
        "predictions = my_model.predict(x_test).argmax(axis=1)\n",
        "ground_truth = y_test.argmax(axis=1)\n",
        "cm = confusion_matrix(ground_truth, predictions)\n",
        "\n",
        "sn.heatmap(cm, cmap=\"YlGnBu\")\n",
        "plt.show()"
      ],
      "execution_count": 9,
      "outputs": [
        {
          "output_type": "display_data",
          "data": {
            "image/png": "[encoded data removed]",
            "text/plain": [
              "<Figure size 432x288 with 2 Axes>"
            ]
          },
          "metadata": {
            "tags": [],
            "needs_background": "light"
          }
        }
      ]
    }
  ]
}